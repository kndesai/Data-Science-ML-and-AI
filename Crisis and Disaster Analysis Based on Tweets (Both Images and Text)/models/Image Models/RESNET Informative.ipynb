{
 "cells": [
  {
   "cell_type": "code",
   "execution_count": 5,
   "id": "2ecf12b5",
   "metadata": {},
   "outputs": [
    {
     "name": "stdout",
     "output_type": "stream",
     "text": [
      "             event_name            tweet_id              image_id  \\\n",
      "0  california_wildfires  917791291823591425  917791291823591425_0   \n",
      "1  california_wildfires  917793137925459968  917793137925459968_0   \n",
      "2  california_wildfires  917793137925459968  917793137925459968_1   \n",
      "3  california_wildfires  917793137925459968  917793137925459968_2   \n",
      "4  california_wildfires  917815040962695168  917815040962695168_0   \n",
      "\n",
      "                                          tweet_text  \\\n",
      "0  RT @Cal_OES: PLS SHARE: Weâ€™re capturing wild...   \n",
      "1  RT @KAKEnews: California wildfires destroy mor...   \n",
      "2  RT @KAKEnews: California wildfires destroy mor...   \n",
      "3  RT @KAKEnews: California wildfires destroy mor...   \n",
      "4  RT @TheAtlantic: Photos of California's destru...   \n",
      "\n",
      "                                               image        label  \\\n",
      "0  data_image/california_wildfires/10_10_2017/917...  informative   \n",
      "1  data_image/california_wildfires/10_10_2017/917...  informative   \n",
      "2  data_image/california_wildfires/10_10_2017/917...  informative   \n",
      "3  data_image/california_wildfires/10_10_2017/917...  informative   \n",
      "4  data_image/california_wildfires/10_10_2017/917...  informative   \n",
      "\n",
      "    label_text  label_image label_text_image  \n",
      "0  informative  informative         Positive  \n",
      "1  informative  informative         Positive  \n",
      "2  informative  informative         Positive  \n",
      "3  informative  informative         Positive  \n",
      "4  informative  informative         Positive  \n"
     ]
    }
   ],
   "source": [
    "import pandas as pd\n",
    "\n",
    "# read the TSV file into a DataFrame\n",
    "df = pd.read_csv('task_informative_text_img_agreed_lab_train.tsv', sep='\\t')\n",
    "\n",
    "# display the first few rows of the DataFrame\n",
    "print(df.head())"
   ]
  },
  {
   "cell_type": "code",
   "execution_count": 6,
   "id": "f7ce3a07",
   "metadata": {
    "scrolled": true
   },
   "outputs": [
    {
     "name": "stdout",
     "output_type": "stream",
     "text": [
      "        event_name            tweet_id              image_id  \\\n",
      "0  srilanka_floods  878185882431389696  878185882431389696_0   \n",
      "1  hurricane_maria  910542719864397824  910542719864397824_0   \n",
      "2  hurricane_maria  913009824195104768  913009824195104768_0   \n",
      "3  hurricane_maria  916053383383011328  916053383383011328_0   \n",
      "4  hurricane_maria  922230253359116288  922230253359116288_0   \n",
      "\n",
      "                                          tweet_text  \\\n",
      "0  Cristofer CLEMENTE MORA now in 2nd at aguille ...   \n",
      "1  Hurricane Maria batters Puerto Rico as a Cat 4...   \n",
      "2  8am #Maria update: holding steady as a strong ...   \n",
      "3  .@lprnyc is hosting a Puerto Rico benefict con...   \n",
      "4  Vet In Puerto Rico Hurricane Worse Than War - ...   \n",
      "\n",
      "                                               image            label  \\\n",
      "0  data_image/srilanka_floods/23_6_2017/878185882...  not_informative   \n",
      "1  data_image/hurricane_maria/20_9_2017/910542719...      informative   \n",
      "2  data_image/hurricane_maria/27_9_2017/913009824...      informative   \n",
      "3  data_image/hurricane_maria/5_10_2017/916053383...      informative   \n",
      "4  data_image/hurricane_maria/22_10_2017/92223025...  not_informative   \n",
      "\n",
      "        label_text      label_image label_text_image  \n",
      "0  not_informative  not_informative         Positive  \n",
      "1      informative      informative         Positive  \n",
      "2      informative      informative         Positive  \n",
      "3      informative      informative         Positive  \n",
      "4  not_informative  not_informative         Positive  \n"
     ]
    }
   ],
   "source": [
    "# read the TSV file into a DataFrame\n",
    "ds = pd.read_csv('task_informative_text_img_agreed_lab_test.tsv', sep='\\t')\n",
    "\n",
    "# display the first few rows of the DataFrame\n",
    "print(ds.head())"
   ]
  },
  {
   "cell_type": "code",
   "execution_count": 8,
   "id": "7a4301d1",
   "metadata": {},
   "outputs": [
    {
     "data": {
      "text/plain": [
       "event_name          1534\n",
       "tweet_id            1534\n",
       "image_id            1534\n",
       "tweet_text          1534\n",
       "image               1534\n",
       "label               1534\n",
       "label_text          1534\n",
       "label_image         1534\n",
       "label_text_image    1534\n",
       "dtype: int64"
      ]
     },
     "execution_count": 8,
     "metadata": {},
     "output_type": "execute_result"
    }
   ],
   "source": [
    "ds.count()"
   ]
  },
  {
   "cell_type": "code",
   "execution_count": 9,
   "id": "d4bfbb40",
   "metadata": {},
   "outputs": [
    {
     "data": {
      "text/plain": [
       "event_name          11135\n",
       "tweet_id            11135\n",
       "image_id            11135\n",
       "tweet_text          11135\n",
       "image               11135\n",
       "label               11135\n",
       "label_text          11135\n",
       "label_image         11135\n",
       "label_text_image    11135\n",
       "dtype: int64"
      ]
     },
     "execution_count": 9,
     "metadata": {},
     "output_type": "execute_result"
    }
   ],
   "source": [
    "df = pd.concat([df,ds])\n",
    "df.count()"
   ]
  },
  {
   "cell_type": "code",
   "execution_count": 10,
   "id": "15555126",
   "metadata": {},
   "outputs": [
    {
     "name": "stdout",
     "output_type": "stream",
     "text": [
      "                                               image  label_image\n",
      "0  data_image/california_wildfires/10_10_2017/917...  informative\n",
      "1  data_image/california_wildfires/10_10_2017/917...  informative\n",
      "2  data_image/california_wildfires/10_10_2017/917...  informative\n",
      "3  data_image/california_wildfires/10_10_2017/917...  informative\n",
      "4  data_image/california_wildfires/10_10_2017/917...  informative\n"
     ]
    }
   ],
   "source": [
    "df = df.drop(['event_name', 'tweet_id', 'image_id', 'tweet_text', 'label', 'label_text', 'label_text_image'], axis=1)\n",
    "\n",
    "# display the updated DataFrame\n",
    "print(df.head())"
   ]
  },
  {
   "cell_type": "code",
   "execution_count": 11,
   "id": "23042291",
   "metadata": {},
   "outputs": [
    {
     "name": "stdout",
     "output_type": "stream",
     "text": [
      "                                                  image      label_image\n",
      "0     C:/Users/kaust/Downloads/data_image/california...      informative\n",
      "1     C:/Users/kaust/Downloads/data_image/california...      informative\n",
      "2     C:/Users/kaust/Downloads/data_image/california...      informative\n",
      "3     C:/Users/kaust/Downloads/data_image/california...      informative\n",
      "4     C:/Users/kaust/Downloads/data_image/california...      informative\n",
      "...                                                 ...              ...\n",
      "1529  C:/Users/kaust/Downloads/data_image/srilanka_f...  not_informative\n",
      "1530  C:/Users/kaust/Downloads/data_image/hurricane_...      informative\n",
      "1531  C:/Users/kaust/Downloads/data_image/hurricane_...      informative\n",
      "1532  C:/Users/kaust/Downloads/data_image/srilanka_f...  not_informative\n",
      "1533  C:/Users/kaust/Downloads/data_image/hurricane_...  not_informative\n",
      "\n",
      "[11135 rows x 2 columns]\n"
     ]
    }
   ],
   "source": [
    "# define the string to concatenate\n",
    "prefix = 'C:/Users/kaust/Downloads/'\n",
    "\n",
    "# apply the lambda function to concatenate the prefix with every entry in the 'Name' column\n",
    "df['image'] = df['image'].apply(lambda x: prefix + x)\n",
    "\n",
    "# display the updated DataFrame\n",
    "print(df)"
   ]
  },
  {
   "cell_type": "code",
   "execution_count": 25,
   "id": "fa384a50",
   "metadata": {},
   "outputs": [
    {
     "data": {
      "image/jpeg": "[encoded data removed]",
      "text/plain": [
       "<IPython.core.display.Image object>"
      ]
     },
     "execution_count": 25,
     "metadata": {},
     "output_type": "execute_result"
    }
   ],
   "source": [
    "from IPython.display import Image\n",
    "\n",
    "# specify the file path of your image with forward slashes\n",
    "file_path = df.loc[8455, 'image']\n",
    "\n",
    "# display the image\n",
    "Image(filename=file_path)"
   ]
  },
  {
   "cell_type": "code",
   "execution_count": 48,
   "id": "e1c50582",
   "metadata": {},
   "outputs": [],
   "source": [
    "from tensorflow.keras.applications.resnet50 import ResNet50\n",
    "from tensorflow.keras.preprocessing.image import ImageDataGenerator\n",
    "from sklearn.model_selection import train_test_split"
   ]
  },
  {
   "cell_type": "code",
   "execution_count": 50,
   "id": "fade66f1",
   "metadata": {},
   "outputs": [],
   "source": [
    "# Split the dataset into training and testing sets\n",
    "train_df, test_df = train_test_split(df, test_size=0.2, random_state=42)\n",
    "\n",
    "# Define the image data generator for data augmentation and preprocessing\n",
    "train_datagen = ImageDataGenerator(rescale=1./255,\n",
    "                                   shear_range=0.2,\n",
    "                                   zoom_range=0.2,\n",
    "                                   horizontal_flip=True)\n",
    "test_datagen = ImageDataGenerator(rescale=1./255)"
   ]
  },
  {
   "cell_type": "code",
   "execution_count": 51,
   "id": "d8dc3dbb",
   "metadata": {},
   "outputs": [],
   "source": [
    "# Define the batch size and image size for the generator\n",
    "batch_size = 32\n",
    "image_size = (224, 224)"
   ]
  },
  {
   "cell_type": "code",
   "execution_count": 52,
   "id": "d8a8ad44",
   "metadata": {},
   "outputs": [
    {
     "name": "stdout",
     "output_type": "stream",
     "text": [
      "Found 8908 validated image filenames belonging to 2 classes.\n",
      "Found 2227 validated image filenames belonging to 2 classes.\n"
     ]
    }
   ],
   "source": [
    "# Create the image data generators for the training and testing sets\n",
    "train_generator = train_datagen.flow_from_dataframe(\n",
    "    dataframe=train_df,\n",
    "    x_col='image',\n",
    "    y_col='label_image',\n",
    "    target_size=image_size,\n",
    "    batch_size=batch_size,\n",
    "    class_mode='categorical')\n",
    "test_generator = test_datagen.flow_from_dataframe(\n",
    "    dataframe=test_df,\n",
    "    x_col='image',\n",
    "    y_col='label_image',\n",
    "    target_size=image_size,\n",
    "    batch_size=batch_size,\n",
    "    class_mode='categorical')"
   ]
  },
  {
   "cell_type": "code",
   "execution_count": 53,
   "id": "31cb6f42",
   "metadata": {},
   "outputs": [
    {
     "name": "stdout",
     "output_type": "stream",
     "text": [
      "Downloading data from https://storage.googleapis.com/tensorflow/keras-applications/resnet/resnet50_weights_tf_dim_ordering_tf_kernels_notop.h5\n",
      "94765736/94765736 [==============================] - 5s 0us/step\n"
     ]
    }
   ],
   "source": [
    "# Load the ResNet50 model with pre-trained weights and without the top layer\n",
    "base_model = ResNet50(weights='imagenet', include_top=False, input_shape=(224, 224, 3))"
   ]
  },
  {
   "cell_type": "code",
   "execution_count": 54,
   "id": "86fb1032",
   "metadata": {},
   "outputs": [],
   "source": [
    "import tensorflow as tf\n",
    "# Add a new top layer for classification\n",
    "x = base_model.output\n",
    "x = tf.keras.layers.GlobalAveragePooling2D()(x)\n",
    "x = tf.keras.layers.Dense(1024, activation='relu')(x)\n",
    "x = tf.keras.layers.Dropout(0.5)(x)\n",
    "predictions = tf.keras.layers.Dense(2, activation='softmax')(x)\n"
   ]
  },
  {
   "cell_type": "code",
   "execution_count": 55,
   "id": "079a750f",
   "metadata": {},
   "outputs": [],
   "source": [
    "# Create the final model with the ResNet50 base and the new top layer\n",
    "model = tf.keras.models.Model(inputs=base_model.input, outputs=predictions)"
   ]
  },
  {
   "cell_type": "code",
   "execution_count": 56,
   "id": "832923b3",
   "metadata": {},
   "outputs": [],
   "source": [
    "# Freeze the weights of the base model for transfer learning\n",
    "for layer in base_model.layers:\n",
    "    layer.trainable = False"
   ]
  },
  {
   "cell_type": "code",
   "execution_count": 57,
   "id": "621870ca",
   "metadata": {},
   "outputs": [
    {
     "name": "stderr",
     "output_type": "stream",
     "text": [
      "WARNING:absl:`lr` is deprecated in Keras optimizer, please use `learning_rate` or use the legacy optimizer, e.g.,tf.keras.optimizers.legacy.Adam.\n"
     ]
    }
   ],
   "source": [
    "# Compile the model with the categorical crossentropy loss and Adam optimizer\n",
    "model.compile(loss='categorical_crossentropy',\n",
    "              optimizer=tf.keras.optimizers.Adam(lr=0.001),\n",
    "              metrics=['accuracy'])"
   ]
  },
  {
   "cell_type": "code",
   "execution_count": 58,
   "id": "ffc9456c",
   "metadata": {
    "scrolled": true
   },
   "outputs": [
    {
     "name": "stdout",
     "output_type": "stream",
     "text": [
      "Epoch 1/10\n",
      " 58/279 [=====>........................] - ETA: 9:48 - loss: 0.8837 - accuracy: 0.5824"
     ]
    },
    {
     "name": "stderr",
     "output_type": "stream",
     "text": [
      "C:\\Users\\kaust\\anaconda3\\lib\\site-packages\\PIL\\Image.py:996: UserWarning: Palette images with Transparency expressed in bytes should be converted to RGBA images\n",
      "  warnings.warn(\n"
     ]
    },
    {
     "name": "stdout",
     "output_type": "stream",
     "text": [
      "279/279 [==============================] - 1183s 4s/step - loss: 0.7007 - accuracy: 0.6385 - val_loss: 0.6179 - val_accuracy: 0.6848\n",
      "Epoch 2/10\n",
      "279/279 [==============================] - 1129s 4s/step - loss: 0.6327 - accuracy: 0.6674 - val_loss: 0.6130 - val_accuracy: 0.6987\n",
      "Epoch 3/10\n",
      "279/279 [==============================] - 1069s 4s/step - loss: 0.6270 - accuracy: 0.6706 - val_loss: 0.6003 - val_accuracy: 0.6902\n",
      "Epoch 4/10\n",
      "279/279 [==============================] - 1127s 4s/step - loss: 0.6271 - accuracy: 0.6697 - val_loss: 0.5983 - val_accuracy: 0.6942\n",
      "Epoch 5/10\n",
      "279/279 [==============================] - 1033s 4s/step - loss: 0.6241 - accuracy: 0.6788 - val_loss: 0.5959 - val_accuracy: 0.7000\n",
      "Epoch 6/10\n",
      "279/279 [==============================] - 1025s 4s/step - loss: 0.6182 - accuracy: 0.6767 - val_loss: 0.5933 - val_accuracy: 0.6969\n",
      "Epoch 7/10\n",
      "279/279 [==============================] - 1061s 4s/step - loss: 0.6192 - accuracy: 0.6813 - val_loss: 0.5964 - val_accuracy: 0.6965\n",
      "Epoch 8/10\n",
      "279/279 [==============================] - 1137s 4s/step - loss: 0.6165 - accuracy: 0.6769 - val_loss: 0.6024 - val_accuracy: 0.6933\n",
      "Epoch 9/10\n",
      "279/279 [==============================] - 1128s 4s/step - loss: 0.6148 - accuracy: 0.6796 - val_loss: 0.5959 - val_accuracy: 0.6996\n",
      "Epoch 10/10\n",
      "279/279 [==============================] - 1042s 4s/step - loss: 0.6152 - accuracy: 0.6797 - val_loss: 0.5944 - val_accuracy: 0.7023\n"
     ]
    }
   ],
   "source": [
    "# Train the model for a few epochs\n",
    "epochs = 10\n",
    "history = model.fit(train_generator,\n",
    "                    steps_per_epoch=len(train_generator),\n",
    "                    epochs=epochs,\n",
    "                    validation_data=test_generator,\n",
    "                    validation_steps=len(test_generator))"
   ]
  },
  {
   "cell_type": "code",
   "execution_count": 59,
   "id": "78192926",
   "metadata": {},
   "outputs": [
    {
     "name": "stdout",
     "output_type": "stream",
     "text": [
      "70/70 [==============================] - 198s 3s/step - loss: 0.5944 - accuracy: 0.7023\n",
      "Test accuracy: 0.7022900581359863\n"
     ]
    }
   ],
   "source": [
    "# Evaluate the model on the testing set and print the accuracy\n",
    "test_loss, test_acc = model.evaluate(test_generator, steps=len(test_generator))\n",
    "print('Test accuracy:', test_acc)"
   ]
  },
  {
   "cell_type": "code",
   "execution_count": null,
   "id": "cbb91008",
   "metadata": {},
   "outputs": [],
   "source": []
  }
 ],
 "metadata": {
  "kernelspec": {
   "display_name": "Python 3 (ipykernel)",
   "language": "python",
   "name": "python3"
  },
  "language_info": {
   "codemirror_mode": {
    "name": "ipython",
    "version": 3
   },
   "file_extension": ".py",
   "mimetype": "text/x-python",
   "name": "python",
   "nbconvert_exporter": "python",
   "pygments_lexer": "ipython3",
   "version": "3.10.9"
  }
 },
 "nbformat": 4,
 "nbformat_minor": 5
}
