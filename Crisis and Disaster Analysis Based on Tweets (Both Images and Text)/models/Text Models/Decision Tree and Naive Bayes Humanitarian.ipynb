{
 "cells": [
  {
   "cell_type": "code",
   "execution_count": 1,
   "id": "c6f9229a",
   "metadata": {},
   "outputs": [
    {
     "name": "stdout",
     "output_type": "stream",
     "text": [
      "             event_name            tweet_id              image_id  \\\n",
      "0  california_wildfires  917793137925459968  917793137925459968_0   \n",
      "1  california_wildfires  917793137925459968  917793137925459968_1   \n",
      "2  california_wildfires  917793137925459968  917793137925459968_2   \n",
      "3  california_wildfires  917815040962695168  917815040962695168_2   \n",
      "4  california_wildfires  917828283047260161  917828283047260161_0   \n",
      "\n",
      "                                          tweet_text  \\\n",
      "0  RT @KAKEnews: California wildfires destroy mor...   \n",
      "1  RT @KAKEnews: California wildfires destroy mor...   \n",
      "2  RT @KAKEnews: California wildfires destroy mor...   \n",
      "3  RT @TheAtlantic: Photos of California's destru...   \n",
      "4  Why California's #wildfires are worse in the f...   \n",
      "\n",
      "                                               image  \\\n",
      "0  data_image/california_wildfires/10_10_2017/917...   \n",
      "1  data_image/california_wildfires/10_10_2017/917...   \n",
      "2  data_image/california_wildfires/10_10_2017/917...   \n",
      "3  data_image/california_wildfires/10_10_2017/917...   \n",
      "4  data_image/california_wildfires/10_10_2017/917...   \n",
      "\n",
      "                               label                         label_text  \\\n",
      "0  infrastructure_and_utility_damage  infrastructure_and_utility_damage   \n",
      "1  infrastructure_and_utility_damage  infrastructure_and_utility_damage   \n",
      "2  infrastructure_and_utility_damage  infrastructure_and_utility_damage   \n",
      "3  infrastructure_and_utility_damage  infrastructure_and_utility_damage   \n",
      "4         other_relevant_information         other_relevant_information   \n",
      "\n",
      "                         label_image label_text_image  \n",
      "0  infrastructure_and_utility_damage         Positive  \n",
      "1  infrastructure_and_utility_damage         Positive  \n",
      "2  infrastructure_and_utility_damage         Positive  \n",
      "3  infrastructure_and_utility_damage         Positive  \n",
      "4         other_relevant_information         Positive  \n"
     ]
    }
   ],
   "source": [
    "import pandas as pd\n",
    "\n",
    "# read the TSV file into a DataFrame\n",
    "df = pd.read_csv('task_humanitarian_text_img_agreed_lab_train.tsv', sep='\\t')\n",
    "ds = pd.read_csv('task_humanitarian_text_img_agreed_lab_test.tsv', sep='\\t')\n",
    "\n",
    "# display the first few rows of the DataFrame\n",
    "print(df.head())"
   ]
  },
  {
   "cell_type": "code",
   "execution_count": 2,
   "id": "c0395541",
   "metadata": {},
   "outputs": [
    {
     "data": {
      "text/plain": [
       "event_name          7081\n",
       "tweet_id            7081\n",
       "image_id            7081\n",
       "tweet_text          7081\n",
       "image               7081\n",
       "label               7081\n",
       "label_text          7081\n",
       "label_image         7081\n",
       "label_text_image    7081\n",
       "dtype: int64"
      ]
     },
     "execution_count": 2,
     "metadata": {},
     "output_type": "execute_result"
    }
   ],
   "source": [
    "df_concat = pd.concat([df,ds])\n",
    "df_concat.count()"
   ]
  },
  {
   "cell_type": "code",
   "execution_count": 3,
   "id": "8971cd58",
   "metadata": {},
   "outputs": [
    {
     "name": "stdout",
     "output_type": "stream",
     "text": [
      "                                          tweet_text  \\\n",
      "0  RT @KAKEnews: California wildfires destroy mor...   \n",
      "1  RT @KAKEnews: California wildfires destroy mor...   \n",
      "2  RT @KAKEnews: California wildfires destroy mor...   \n",
      "3  RT @TheAtlantic: Photos of California's destru...   \n",
      "4  Why California's #wildfires are worse in the f...   \n",
      "\n",
      "                          label_text  \n",
      "0  infrastructure_and_utility_damage  \n",
      "1  infrastructure_and_utility_damage  \n",
      "2  infrastructure_and_utility_damage  \n",
      "3  infrastructure_and_utility_damage  \n",
      "4         other_relevant_information  \n"
     ]
    }
   ],
   "source": [
    "df = df.drop(['event_name', 'tweet_id', 'image_id', 'image', 'label', 'label_image', 'label_text_image'], axis=1)\n",
    "\n",
    "# display the updated DataFrame\n",
    "print(df.head())"
   ]
  },
  {
   "cell_type": "code",
   "execution_count": 4,
   "id": "cb112350",
   "metadata": {},
   "outputs": [
    {
     "name": "stdout",
     "output_type": "stream",
     "text": [
      "                                          tweet_text  \\\n",
      "0  RT @KAKEnews: California wildfires destroy mor...   \n",
      "1  RT @KAKEnews: California wildfires destroy mor...   \n",
      "2  RT @KAKEnews: California wildfires destroy mor...   \n",
      "3  RT @TheAtlantic: Photos of California's destru...   \n",
      "4  Why California's #wildfires are worse in the f...   \n",
      "\n",
      "                          label_text  \\\n",
      "0  infrastructure_and_utility_damage   \n",
      "1  infrastructure_and_utility_damage   \n",
      "2  infrastructure_and_utility_damage   \n",
      "3  infrastructure_and_utility_damage   \n",
      "4         other_relevant_information   \n",
      "\n",
      "                                      processed_text  \n",
      "0  RT KAKEnews California wildfires destroy more ...  \n",
      "1  RT KAKEnews California wildfires destroy more ...  \n",
      "2  RT KAKEnews California wildfires destroy more ...  \n",
      "3  RT TheAtlantic Photos of Californias destructi...  \n",
      "4             Why Californias are worse in the fall   \n"
     ]
    }
   ],
   "source": [
    "import re\n",
    "\n",
    "# define a lambda function to preprocess a single tweet\n",
    "preprocess_tweet = lambda tweet: re.sub(r'#\\w+\\s*|https?:\\/\\/.*\\/\\w*|[^\\w\\s]', '', tweet)\n",
    "\n",
    "# apply the preprocessing function to the relevant columns of the DataFrame\n",
    "df['processed_text'] = df['tweet_text'].apply(preprocess_tweet)\n",
    "\n",
    "# display the updated DataFrame\n",
    "print(df.head())\n"
   ]
  },
  {
   "cell_type": "code",
   "execution_count": 5,
   "id": "3cb28f6c",
   "metadata": {},
   "outputs": [
    {
     "name": "stdout",
     "output_type": "stream",
     "text": [
      "                                          tweet_text  \\\n",
      "0  rt @kakenews: california wildfires destroy mor...   \n",
      "1  rt @kakenews: california wildfires destroy mor...   \n",
      "2  rt @kakenews: california wildfires destroy mor...   \n",
      "3  rt @theatlantic: photos of california's destru...   \n",
      "4  why california's #wildfires are worse in the f...   \n",
      "\n",
      "                          label_text  \\\n",
      "0  infrastructure_and_utility_damage   \n",
      "1  infrastructure_and_utility_damage   \n",
      "2  infrastructure_and_utility_damage   \n",
      "3  infrastructure_and_utility_damage   \n",
      "4         other_relevant_information   \n",
      "\n",
      "                                      processed_text  \n",
      "0  rt kakenews california wildfires destroy more ...  \n",
      "1  rt kakenews california wildfires destroy more ...  \n",
      "2  rt kakenews california wildfires destroy more ...  \n",
      "3  rt theatlantic photos of californias destructi...  \n",
      "4             why californias are worse in the fall   \n"
     ]
    }
   ],
   "source": [
    "# convert all text in the DataFrame to lowercase\n",
    "df = df.applymap(lambda s: s.lower() if type(s) == str else s)\n",
    "\n",
    "# display the updated DataFrame\n",
    "print(df.head())"
   ]
  },
  {
   "cell_type": "code",
   "execution_count": 6,
   "id": "67d68ff5",
   "metadata": {},
   "outputs": [],
   "source": [
    "from sklearn.feature_extraction.text import CountVectorizer\n",
    "from sklearn.tree import DecisionTreeClassifier\n",
    "from sklearn.model_selection import train_test_split\n",
    "\n",
    "# create a CountVectorizer object to convert the preprocessed text into a numerical feature vector\n",
    "vectorizer = CountVectorizer()\n",
    "\n",
    "# convert the preprocessed text into a numerical feature vector\n",
    "X = vectorizer.fit_transform(df['processed_text'])\n",
    "\n",
    "# use the 'label_text' column as the labels\n",
    "y = df['label_text']"
   ]
  },
  {
   "cell_type": "code",
   "execution_count": 7,
   "id": "de657a1f",
   "metadata": {},
   "outputs": [],
   "source": [
    "# split the data into training and testing sets\n",
    "X_train, X_test, y_train, y_test = train_test_split(X, y, test_size=0.2, random_state=42)"
   ]
  },
  {
   "cell_type": "code",
   "execution_count": 8,
   "id": "6bdca9c1",
   "metadata": {},
   "outputs": [
    {
     "data": {
      "text/html": [
       "<style>#sk-container-id-1 {color: black;background-color: white;}#sk-container-id-1 pre{padding: 0;}#sk-container-id-1 div.sk-toggleable {background-color: white;}#sk-container-id-1 label.sk-toggleable__label {cursor: pointer;display: block;width: 100%;margin-bottom: 0;padding: 0.3em;box-sizing: border-box;text-align: center;}#sk-container-id-1 label.sk-toggleable__label-arrow:before {content: \"▸\";float: left;margin-right: 0.25em;color: #696969;}#sk-container-id-1 label.sk-toggleable__label-arrow:hover:before {color: black;}#sk-container-id-1 div.sk-estimator:hover label.sk-toggleable__label-arrow:before {color: black;}#sk-container-id-1 div.sk-toggleable__content {max-height: 0;max-width: 0;overflow: hidden;text-align: left;background-color: #f0f8ff;}#sk-container-id-1 div.sk-toggleable__content pre {margin: 0.2em;color: black;border-radius: 0.25em;background-color: #f0f8ff;}#sk-container-id-1 input.sk-toggleable__control:checked~div.sk-toggleable__content {max-height: 200px;max-width: 100%;overflow: auto;}#sk-container-id-1 input.sk-toggleable__control:checked~label.sk-toggleable__label-arrow:before {content: \"▾\";}#sk-container-id-1 div.sk-estimator input.sk-toggleable__control:checked~label.sk-toggleable__label {background-color: #d4ebff;}#sk-container-id-1 div.sk-label input.sk-toggleable__control:checked~label.sk-toggleable__label {background-color: #d4ebff;}#sk-container-id-1 input.sk-hidden--visually {border: 0;clip: rect(1px 1px 1px 1px);clip: rect(1px, 1px, 1px, 1px);height: 1px;margin: -1px;overflow: hidden;padding: 0;position: absolute;width: 1px;}#sk-container-id-1 div.sk-estimator {font-family: monospace;background-color: #f0f8ff;border: 1px dotted black;border-radius: 0.25em;box-sizing: border-box;margin-bottom: 0.5em;}#sk-container-id-1 div.sk-estimator:hover {background-color: #d4ebff;}#sk-container-id-1 div.sk-parallel-item::after {content: \"\";width: 100%;border-bottom: 1px solid gray;flex-grow: 1;}#sk-container-id-1 div.sk-label:hover label.sk-toggleable__label {background-color: #d4ebff;}#sk-container-id-1 div.sk-serial::before {content: \"\";position: absolute;border-left: 1px solid gray;box-sizing: border-box;top: 0;bottom: 0;left: 50%;z-index: 0;}#sk-container-id-1 div.sk-serial {display: flex;flex-direction: column;align-items: center;background-color: white;padding-right: 0.2em;padding-left: 0.2em;position: relative;}#sk-container-id-1 div.sk-item {position: relative;z-index: 1;}#sk-container-id-1 div.sk-parallel {display: flex;align-items: stretch;justify-content: center;background-color: white;position: relative;}#sk-container-id-1 div.sk-item::before, #sk-container-id-1 div.sk-parallel-item::before {content: \"\";position: absolute;border-left: 1px solid gray;box-sizing: border-box;top: 0;bottom: 0;left: 50%;z-index: -1;}#sk-container-id-1 div.sk-parallel-item {display: flex;flex-direction: column;z-index: 1;position: relative;background-color: white;}#sk-container-id-1 div.sk-parallel-item:first-child::after {align-self: flex-end;width: 50%;}#sk-container-id-1 div.sk-parallel-item:last-child::after {align-self: flex-start;width: 50%;}#sk-container-id-1 div.sk-parallel-item:only-child::after {width: 0;}#sk-container-id-1 div.sk-dashed-wrapped {border: 1px dashed gray;margin: 0 0.4em 0.5em 0.4em;box-sizing: border-box;padding-bottom: 0.4em;background-color: white;}#sk-container-id-1 div.sk-label label {font-family: monospace;font-weight: bold;display: inline-block;line-height: 1.2em;}#sk-container-id-1 div.sk-label-container {text-align: center;}#sk-container-id-1 div.sk-container {/* jupyter's `normalize.less` sets `[hidden] { display: none; }` but bootstrap.min.css set `[hidden] { display: none !important; }` so we also need the `!important` here to be able to override the default hidden behavior on the sphinx rendered scikit-learn.org. See: https://github.com/scikit-learn/scikit-learn/issues/21755 */display: inline-block !important;position: relative;}#sk-container-id-1 div.sk-text-repr-fallback {display: none;}</style><div id=\"sk-container-id-1\" class=\"sk-top-container\"><div class=\"sk-text-repr-fallback\"><pre>DecisionTreeClassifier(random_state=42)</pre><b>In a Jupyter environment, please rerun this cell to show the HTML representation or trust the notebook. <br />On GitHub, the HTML representation is unable to render, please try loading this page with nbviewer.org.</b></div><div class=\"sk-container\" hidden><div class=\"sk-item\"><div class=\"sk-estimator sk-toggleable\"><input class=\"sk-toggleable__control sk-hidden--visually\" id=\"sk-estimator-id-1\" type=\"checkbox\" checked><label for=\"sk-estimator-id-1\" class=\"sk-toggleable__label sk-toggleable__label-arrow\">DecisionTreeClassifier</label><div class=\"sk-toggleable__content\"><pre>DecisionTreeClassifier(random_state=42)</pre></div></div></div></div></div>"
      ],
      "text/plain": [
       "DecisionTreeClassifier(random_state=42)"
      ]
     },
     "execution_count": 8,
     "metadata": {},
     "output_type": "execute_result"
    }
   ],
   "source": [
    "# create a DecisionTreeClassifier object and fit it to the training data\n",
    "clf1 = DecisionTreeClassifier(random_state=42)\n",
    "clf1.fit(X_train, y_train)"
   ]
  },
  {
   "cell_type": "code",
   "execution_count": 9,
   "id": "27953e25",
   "metadata": {},
   "outputs": [
    {
     "name": "stdout",
     "output_type": "stream",
     "text": [
      "Accuracy: 0.7357259380097879\n"
     ]
    }
   ],
   "source": [
    "# evaluate the accuracy of the decision tree on the testing data\n",
    "accuracy = clf1.score(X_test, y_test)\n",
    "print('Accuracy:', accuracy)"
   ]
  },
  {
   "cell_type": "code",
   "execution_count": 10,
   "id": "b26fcd80",
   "metadata": {},
   "outputs": [
    {
     "name": "stdout",
     "output_type": "stream",
     "text": [
      "Precision: 0.7298\n",
      "Recall: 0.7357\n",
      "F1 score: 0.7282\n"
     ]
    }
   ],
   "source": [
    "from sklearn.metrics import precision_recall_fscore_support\n",
    "\n",
    "# make predictions on the test data\n",
    "y_pred = clf1.predict(X_test)\n",
    "\n",
    "# calculate precision, recall, and F1 score\n",
    "precision, recall, f1, _ = precision_recall_fscore_support(y_test, y_pred, average='weighted')\n",
    "\n",
    "print(\"Precision: {:.4f}\".format(precision))\n",
    "print(\"Recall: {:.4f}\".format(recall))\n",
    "print(\"F1 score: {:.4f}\".format(f1))"
   ]
  },
  {
   "cell_type": "code",
   "execution_count": 11,
   "id": "9d3eec3d",
   "metadata": {},
   "outputs": [
    {
     "name": "stdout",
     "output_type": "stream",
     "text": [
      "['infrastructure_and_utility_damage']\n"
     ]
    }
   ],
   "source": [
    "tweet = 'buildings demolished completely'\n",
    "tweet_vec = vectorizer.transform([tweet])\n",
    "label = clf1.predict(tweet_vec)\n",
    "print(label)"
   ]
  },
  {
   "cell_type": "code",
   "execution_count": 12,
   "id": "72d2ddd9",
   "metadata": {},
   "outputs": [
    {
     "data": {
      "text/html": [
       "<style>#sk-container-id-2 {color: black;background-color: white;}#sk-container-id-2 pre{padding: 0;}#sk-container-id-2 div.sk-toggleable {background-color: white;}#sk-container-id-2 label.sk-toggleable__label {cursor: pointer;display: block;width: 100%;margin-bottom: 0;padding: 0.3em;box-sizing: border-box;text-align: center;}#sk-container-id-2 label.sk-toggleable__label-arrow:before {content: \"▸\";float: left;margin-right: 0.25em;color: #696969;}#sk-container-id-2 label.sk-toggleable__label-arrow:hover:before {color: black;}#sk-container-id-2 div.sk-estimator:hover label.sk-toggleable__label-arrow:before {color: black;}#sk-container-id-2 div.sk-toggleable__content {max-height: 0;max-width: 0;overflow: hidden;text-align: left;background-color: #f0f8ff;}#sk-container-id-2 div.sk-toggleable__content pre {margin: 0.2em;color: black;border-radius: 0.25em;background-color: #f0f8ff;}#sk-container-id-2 input.sk-toggleable__control:checked~div.sk-toggleable__content {max-height: 200px;max-width: 100%;overflow: auto;}#sk-container-id-2 input.sk-toggleable__control:checked~label.sk-toggleable__label-arrow:before {content: \"▾\";}#sk-container-id-2 div.sk-estimator input.sk-toggleable__control:checked~label.sk-toggleable__label {background-color: #d4ebff;}#sk-container-id-2 div.sk-label input.sk-toggleable__control:checked~label.sk-toggleable__label {background-color: #d4ebff;}#sk-container-id-2 input.sk-hidden--visually {border: 0;clip: rect(1px 1px 1px 1px);clip: rect(1px, 1px, 1px, 1px);height: 1px;margin: -1px;overflow: hidden;padding: 0;position: absolute;width: 1px;}#sk-container-id-2 div.sk-estimator {font-family: monospace;background-color: #f0f8ff;border: 1px dotted black;border-radius: 0.25em;box-sizing: border-box;margin-bottom: 0.5em;}#sk-container-id-2 div.sk-estimator:hover {background-color: #d4ebff;}#sk-container-id-2 div.sk-parallel-item::after {content: \"\";width: 100%;border-bottom: 1px solid gray;flex-grow: 1;}#sk-container-id-2 div.sk-label:hover label.sk-toggleable__label {background-color: #d4ebff;}#sk-container-id-2 div.sk-serial::before {content: \"\";position: absolute;border-left: 1px solid gray;box-sizing: border-box;top: 0;bottom: 0;left: 50%;z-index: 0;}#sk-container-id-2 div.sk-serial {display: flex;flex-direction: column;align-items: center;background-color: white;padding-right: 0.2em;padding-left: 0.2em;position: relative;}#sk-container-id-2 div.sk-item {position: relative;z-index: 1;}#sk-container-id-2 div.sk-parallel {display: flex;align-items: stretch;justify-content: center;background-color: white;position: relative;}#sk-container-id-2 div.sk-item::before, #sk-container-id-2 div.sk-parallel-item::before {content: \"\";position: absolute;border-left: 1px solid gray;box-sizing: border-box;top: 0;bottom: 0;left: 50%;z-index: -1;}#sk-container-id-2 div.sk-parallel-item {display: flex;flex-direction: column;z-index: 1;position: relative;background-color: white;}#sk-container-id-2 div.sk-parallel-item:first-child::after {align-self: flex-end;width: 50%;}#sk-container-id-2 div.sk-parallel-item:last-child::after {align-self: flex-start;width: 50%;}#sk-container-id-2 div.sk-parallel-item:only-child::after {width: 0;}#sk-container-id-2 div.sk-dashed-wrapped {border: 1px dashed gray;margin: 0 0.4em 0.5em 0.4em;box-sizing: border-box;padding-bottom: 0.4em;background-color: white;}#sk-container-id-2 div.sk-label label {font-family: monospace;font-weight: bold;display: inline-block;line-height: 1.2em;}#sk-container-id-2 div.sk-label-container {text-align: center;}#sk-container-id-2 div.sk-container {/* jupyter's `normalize.less` sets `[hidden] { display: none; }` but bootstrap.min.css set `[hidden] { display: none !important; }` so we also need the `!important` here to be able to override the default hidden behavior on the sphinx rendered scikit-learn.org. See: https://github.com/scikit-learn/scikit-learn/issues/21755 */display: inline-block !important;position: relative;}#sk-container-id-2 div.sk-text-repr-fallback {display: none;}</style><div id=\"sk-container-id-2\" class=\"sk-top-container\"><div class=\"sk-text-repr-fallback\"><pre>MultinomialNB()</pre><b>In a Jupyter environment, please rerun this cell to show the HTML representation or trust the notebook. <br />On GitHub, the HTML representation is unable to render, please try loading this page with nbviewer.org.</b></div><div class=\"sk-container\" hidden><div class=\"sk-item\"><div class=\"sk-estimator sk-toggleable\"><input class=\"sk-toggleable__control sk-hidden--visually\" id=\"sk-estimator-id-2\" type=\"checkbox\" checked><label for=\"sk-estimator-id-2\" class=\"sk-toggleable__label sk-toggleable__label-arrow\">MultinomialNB</label><div class=\"sk-toggleable__content\"><pre>MultinomialNB()</pre></div></div></div></div></div>"
      ],
      "text/plain": [
       "MultinomialNB()"
      ]
     },
     "execution_count": 12,
     "metadata": {},
     "output_type": "execute_result"
    }
   ],
   "source": [
    "from sklearn.naive_bayes import MultinomialNB\n",
    "\n",
    "clf2 = MultinomialNB()\n",
    "clf2.fit(X_train, y_train)"
   ]
  },
  {
   "cell_type": "code",
   "execution_count": 13,
   "id": "8d5aa539",
   "metadata": {},
   "outputs": [
    {
     "name": "stdout",
     "output_type": "stream",
     "text": [
      "Accuracy: 0.7561174551386624\n"
     ]
    }
   ],
   "source": [
    "# evaluate the accuracy of the naive-bayes on the testing data\n",
    "accuracy = clf2.score(X_test, y_test)\n",
    "print('Accuracy:', accuracy)"
   ]
  },
  {
   "cell_type": "code",
   "execution_count": 14,
   "id": "a2461b8c",
   "metadata": {},
   "outputs": [
    {
     "name": "stdout",
     "output_type": "stream",
     "text": [
      "Precision: 0.7458\n",
      "Recall: 0.7561\n",
      "F1 score: 0.7486\n"
     ]
    }
   ],
   "source": [
    "from sklearn.metrics import precision_recall_fscore_support\n",
    "\n",
    "# make predictions on the test data\n",
    "y_pred = clf2.predict(X_test)\n",
    "\n",
    "# calculate precision, recall, and F1 score\n",
    "precision, recall, f1, _ = precision_recall_fscore_support(y_test, y_pred, average='weighted')\n",
    "\n",
    "print(\"Precision: {:.4f}\".format(precision))\n",
    "print(\"Recall: {:.4f}\".format(recall))\n",
    "print(\"F1 score: {:.4f}\".format(f1))"
   ]
  },
  {
   "cell_type": "code",
   "execution_count": 30,
   "id": "5c872c66",
   "metadata": {},
   "outputs": [
    {
     "name": "stdout",
     "output_type": "stream",
     "text": [
      "['not_humanitarian']\n"
     ]
    }
   ],
   "source": [
    "tweet = 'Tom and Jerry played basketball.'\n",
    "tweet_vec = vectorizer.transform([tweet])\n",
    "label = clf2.predict(tweet_vec)\n",
    "print(label)"
   ]
  },
  {
   "cell_type": "code",
   "execution_count": null,
   "id": "0e8b2f32",
   "metadata": {},
   "outputs": [],
   "source": []
  }
 ],
 "metadata": {
  "kernelspec": {
   "display_name": "Python 3 (ipykernel)",
   "language": "python",
   "name": "python3"
  },
  "language_info": {
   "codemirror_mode": {
    "name": "ipython",
    "version": 3
   },
   "file_extension": ".py",
   "mimetype": "text/x-python",
   "name": "python",
   "nbconvert_exporter": "python",
   "pygments_lexer": "ipython3",
   "version": "3.10.9"
  }
 },
 "nbformat": 4,
 "nbformat_minor": 5
}
