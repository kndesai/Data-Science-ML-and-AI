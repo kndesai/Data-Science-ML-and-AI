{
  "nbformat": 4,
  "nbformat_minor": 0,
  "metadata": {
    "colab": {
      "provenance": []
    },
    "kernelspec": {
      "name": "python3",
      "display_name": "Python 3"
    },
    "language_info": {
      "name": "python"
    }
  },
  "cells": [
    {
      "cell_type": "code",
      "execution_count": null,
      "metadata": {
        "id": "WiQnNyNIu2uP"
      },
      "outputs": [],
      "source": [
        "import numpy as np"
      ]
    },
    {
      "cell_type": "code",
      "source": [
        "gamma = 0.75\n",
        "alpha = 0.9"
      ],
      "metadata": {
        "id": "B1Ya5BPGu63m"
      },
      "execution_count": null,
      "outputs": []
    },
    {
      "cell_type": "code",
      "source": [
        "location_to_state = {\n",
        "    'A':0,\n",
        "    'B': 1,\n",
        "    'C': 2,\n",
        "    'D': 3,\n",
        "    'E': 4,\n",
        "    'F': 5,\n",
        "    'G': 6,\n",
        "    'H': 7,\n",
        "    'I': 8,\n",
        "    'J': 9,\n",
        "    'K': 10,\n",
        "    'L': 11\n",
        "}"
      ],
      "metadata": {
        "id": "DRgfMOPIvAWE"
      },
      "execution_count": null,
      "outputs": []
    },
    {
      "cell_type": "code",
      "source": [
        "actions = [0,1,2,3,4,5,6,7,8,9,10,11]"
      ],
      "metadata": {
        "id": "aJ9RrjvuvhjS"
      },
      "execution_count": null,
      "outputs": []
    },
    {
      "cell_type": "code",
      "source": [
        "R = np.array([[0,1,0,0,0,0,0,0,0,0,0,0],\n",
        "[1,0,1,0,0,1,0,0,0,0,0,0],\n",
        "[0,1,0,0,0,0,1,0,0,0,0,0],\n",
        "[0,0,0,0,0,0,0,1,0,0,0,0],\n",
        "[0,0,0,0,0,0,0,0,1,0,0,0],\n",
        "[0,1,0,0,0,0,0,0,0,1,0,0],\n",
        "[0,0,1,0,0,0,1000,1,0,0,0,0],\n",
        "[0,0,0,1,0,0,1,0,0,0,0,1],\n",
        "[0,0,0,0,1,0,0,0,0,1,0,0],\n",
        "[0,0,0,0,0,1,0,0,1,0,1,0],\n",
        "[0,0,0,0,0,0,0,0,0,1,0,1],\n",
        "[0,0,0,0,0,0,0,1,0,0,1,0]])\n"
      ],
      "metadata": {
        "id": "qVEJORb0vvNW"
      },
      "execution_count": null,
      "outputs": []
    },
    {
      "cell_type": "code",
      "source": [
        "Q = np.array(np.zeros([12,12]))"
      ],
      "metadata": {
        "id": "wUdYxQ4Iv7n5"
      },
      "execution_count": null,
      "outputs": []
    },
    {
      "cell_type": "code",
      "source": [
        "for i in range(1000):\n",
        "  current_state = np.random.randint(0,12)\n",
        "  playable_actions=[]\n",
        "  for j in range(12):\n",
        "    if R[current_state, j] > 0:\n",
        "      playable_actions.append(j)\n",
        "\n",
        "  next_state = np.random.choice(playable_actions)\n",
        "  TD = R[current_state, next_state] + gamma*Q[next_state, np.argmax(Q[next_state,])] - Q[current_state,next_state]\n",
        "\n",
        "  Q[current_state, next_state] = Q[current_state, next_state] + alpha*TD"
      ],
      "metadata": {
        "id": "5DaTBHJBwhsm"
      },
      "execution_count": null,
      "outputs": []
    },
    {
      "cell_type": "code",
      "source": [
        "print(\"Q-Values:\")\n",
        "print(Q.astype(int))"
      ],
      "metadata": {
        "colab": {
          "base_uri": "https://localhost:8080/"
        },
        "id": "jv91fdzwxs7n",
        "outputId": "faa54e0e-9a11-44af-b6f3-170c2962c90d"
      },
      "execution_count": null,
      "outputs": [
        {
          "output_type": "stream",
          "name": "stdout",
          "text": [
            "Q-Values:\n",
            "[[   0 1688    0    0    0    0    0    0    0    0    0    0]\n",
            " [1267    0 2249    0    0 1266    0    0    0    0    0    0]\n",
            " [   0 1688    0    0    0    0 2997    0    0    0    0    0]\n",
            " [   0    0    0    0    0    0    0 2249    0    0    0    0]\n",
            " [   0    0    0    0    0    0    0    0  714    0    0    0]\n",
            " [   0 1688    0    0    0    0    0    0    0  951    0    0]\n",
            " [   0    0 2249    0    0    0 3998 2248    0    0    0    0]\n",
            " [   0    0    0 1688    0    0 2997    0    0    0    0 1687]\n",
            " [   0    0    0    0  536    0    0    0    0  950    0    0]\n",
            " [   0    0    0    0    0 1267    0    0  714    0 1267    0]\n",
            " [   0    0    0    0    0    0    0    0    0  950    0 1688]\n",
            " [   0    0    0    0    0    0    0 2249    0    0 1267    0]]\n"
          ]
        }
      ]
    },
    {
      "cell_type": "code",
      "source": [
        "state_to_location = {state: location for location, state in location_to_state.items()}\n"
      ],
      "metadata": {
        "id": "uVT4YYjgyPx2"
      },
      "execution_count": null,
      "outputs": []
    },
    {
      "cell_type": "code",
      "source": [
        "def route(starting_location, ending_location):\n",
        "  route=[starting_location]\n",
        "  next_location = starting_location\n",
        "  while (next_location != ending_location):\n",
        "    starting_state = location_to_state[starting_location]\n",
        "    next_state = np.argmax(Q[starting_state,])\n",
        "    next_location = state_to_location[next_state]\n",
        "    route.append(next_location)\n",
        "    starting_location = next_location\n",
        "  return route\n"
      ],
      "metadata": {
        "id": "C_3D3Hvwyz3c"
      },
      "execution_count": null,
      "outputs": []
    },
    {
      "cell_type": "code",
      "source": [
        "print('Route:')\n",
        "route('E', 'G')"
      ],
      "metadata": {
        "colab": {
          "base_uri": "https://localhost:8080/"
        },
        "id": "dYUOoxIHzsKb",
        "outputId": "834f8344-04ec-45a3-b105-207e2685ad03"
      },
      "execution_count": null,
      "outputs": [
        {
          "output_type": "stream",
          "name": "stdout",
          "text": [
            "Route:\n"
          ]
        },
        {
          "output_type": "execute_result",
          "data": {
            "text/plain": [
              "['E', 'I', 'J', 'F', 'B', 'C', 'G']"
            ]
          },
          "metadata": {},
          "execution_count": 14
        }
      ]
    }
  ]
}